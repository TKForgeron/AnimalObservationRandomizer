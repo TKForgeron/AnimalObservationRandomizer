{
 "cells": [
  {
   "cell_type": "code",
   "execution_count": 91,
   "metadata": {},
   "outputs": [],
   "source": [
    "import random\n",
    "import numpy as np"
   ]
  },
  {
   "cell_type": "code",
   "execution_count": 83,
   "metadata": {},
   "outputs": [
    {
     "data": {
      "text/plain": [
       "468"
      ]
     },
     "execution_count": 83,
     "metadata": {},
     "output_type": "execute_result"
    }
   ],
   "source": [
    "# GLOBALS\n",
    "ALLE_DIEREN = ['KE', 'FA', 'MU', 'NO', 'SW', 'SG', 'SA', 'HA', 'BI', 'KA', 'TU', 'AS', 'TA']\n",
    "DAGDELEN = ['OCH1','OCH2','MID1','MID2']\n",
    "RANDOM_SEED = 32\n",
    "\n",
    "# 3 observaties per dagdeel mogelijk, elk dier wordt ong ~3x elk dagdeel geobserveerd\n",
    "aantal_observaties = 3*len(DAGDELEN)*3*len(ALLE_DIEREN)\n",
    "aantal_observaties"
   ]
  },
  {
   "cell_type": "code",
   "execution_count": 84,
   "metadata": {},
   "outputs": [],
   "source": [
    "def generate_combinations(animal_names, timeslots):    \n",
    "    \n",
    "    combs = []\n",
    "    for name in animal_names:\n",
    "        combs += list(zip([name]*len(timeslots*3),timeslots*3))\n",
    "    combs *= 3\n",
    "\n",
    "    return combs\n",
    "\n",
    "def generate_random_seed():\n",
    "    return "
   ]
  },
  {
   "cell_type": "code",
   "execution_count": 97,
   "metadata": {},
   "outputs": [],
   "source": [
    "# GENERATE RANDOM SEQUENCE OF TIMESLOT-ANIMAL COMBINATIONS\n",
    "combs = generate_combinations(ALLE_DIEREN,DAGDELEN)\n",
    "random.seed(RANDOM_SEED)\n",
    "random.shuffle(combs)\n",
    "np.savetxt('random_schedule_list.csv',combs,delimiter=',',fmt='% s')"
   ]
  }
 ],
 "metadata": {
  "interpreter": {
   "hash": "f220218ea754aeaad16bce83eef9506d4c739bafcea3b9b94af5632dd471c83c"
  },
  "kernelspec": {
   "display_name": "Python 3.9.6 64-bit",
   "language": "python",
   "name": "python3"
  },
  "language_info": {
   "name": "python",
   "version": "3.9.6"
  },
  "orig_nbformat": 4
 },
 "nbformat": 4,
 "nbformat_minor": 2
}
