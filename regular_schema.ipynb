{
 "cells": [
  {
   "cell_type": "code",
   "execution_count": 91,
   "metadata": {},
   "outputs": [],
   "source": [
    "import random\n",
    "import numpy as np"
   ]
  },
  {
   "cell_type": "code",
   "execution_count": 83,
   "metadata": {},
   "outputs": [
    {
     "data": {
      "text/plain": [
       "468"
      ]
     },
     "execution_count": 83,
     "metadata": {},
     "output_type": "execute_result"
    }
   ],
   "source": [
    "# GLOBALS\n",
    "ALLE_DIEREN = ['KE', 'FA', 'MU', 'NO', 'SW', 'SG', 'SA', 'HA', 'BI', 'KA', 'TU', 'AS', 'TA']\n",
    "DAGDELEN = ['OCH1','OCH2','MID1','MID2']\n",
    "RANDOM_SEED = 32\n",
    "\n",
    "# 3 observaties per dagdeel mogelijk, elk dier wordt ong ~3x elk dagdeel geobserveerd\n",
    "aantal_observaties = 3*len(DAGDELEN)*3*len(ALLE_DIEREN)\n",
    "aantal_observaties"
   ]
  },
  {
   "cell_type": "code",
   "execution_count": 84,
   "metadata": {},
   "outputs": [],
   "source": [
    "def generate_combinations(animal_names, timeslots):    \n",
    "    \n",
    "    combs = []\n",
    "    for name in animal_names:\n",
    "        combs += list(zip([name]*len(timeslots*3),timeslots*3))\n",
    "    combs *= 3\n",
    "\n",
    "    return combs\n",
    "\n",
    "def generate_random_seed():\n",
    "    return "
   ]
  },
  {
   "cell_type": "code",
   "execution_count": 100,
   "metadata": {},
   "outputs": [
    {
     "name": "stdout",
     "output_type": "stream",
     "text": [
      "[('ANIMAL', 'TIMESLOT'), ('TU', 'MID2'), ('BI', 'MID1'), ('TU', 'OCH2'), ('NO', 'MID1'), ('NO', 'MID2'), ('TU', 'MID2'), ('MU', 'OCH1'), ('FA', 'OCH1'), ('TA', 'MID2'), ('MU', 'OCH2'), ('TU', 'OCH2'), ('SA', 'MID1'), ('SW', 'MID2'), ('MU', 'MID2'), ('KA', 'MID2'), ('SA', 'MID2'), ('HA', 'MID2'), ('KA', 'OCH2'), ('SA', 'OCH1'), ('TU', 'MID1'), ('FA', 'MID2'), ('FA', 'OCH2'), ('AS', 'MID1'), ('TA', 'MID1'), ('SA', 'OCH2'), ('SG', 'MID2'), ('TU', 'MID1'), ('HA', 'MID1'), ('TU', 'MID2'), ('KA', 'OCH2'), ('TU', 'MID1'), ('FA', 'MID2'), ('KE', 'MID2'), ('SW', 'OCH1'), ('TA', 'OCH1'), ('AS', 'MID1'), ('MU', 'MID1'), ('AS', 'OCH1'), ('SA', 'OCH2'), ('FA', 'OCH1'), ('TU', 'MID1'), ('AS', 'OCH1'), ('KA', 'MID2'), ('HA', 'MID2'), ('SW', 'MID1'), ('AS', 'OCH2'), ('BI', 'MID2'), ('KA', 'MID1'), ('MU', 'OCH1'), ('SW', 'OCH2'), ('FA', 'MID1'), ('AS', 'MID1'), ('HA', 'MID1'), ('BI', 'OCH1'), ('KA', 'MID1'), ('NO', 'MID1'), ('SG', 'MID2'), ('FA', 'OCH1'), ('TU', 'MID2'), ('AS', 'MID1'), ('TU', 'MID2'), ('SG', 'OCH2'), ('SW', 'OCH1'), ('KE', 'OCH2'), ('NO', 'MID1'), ('HA', 'MID2'), ('BI', 'MID1'), ('HA', 'OCH1'), ('SA', 'OCH2'), ('AS', 'OCH1'), ('TA', 'MID2'), ('SG', 'OCH2'), ('SW', 'OCH2'), ('SA', 'MID1'), ('BI', 'MID1'), ('HA', 'OCH2'), ('FA', 'OCH2'), ('SW', 'OCH2'), ('TA', 'MID1'), ('TA', 'MID1'), ('MU', 'MID2'), ('TU', 'OCH1'), ('TA', 'MID1'), ('SG', 'OCH2'), ('KE', 'OCH1'), ('NO', 'MID2'), ('MU', 'MID1'), ('TU', 'MID2'), ('BI', 'MID2'), ('TA', 'OCH2'), ('SA', 'OCH1'), ('NO', 'OCH1'), ('SG', 'OCH2'), ('SG', 'MID1'), ('KA', 'MID1'), ('NO', 'OCH1'), ('MU', 'OCH1'), ('FA', 'MID2'), ('SW', 'OCH2'), ('SG', 'OCH2'), ('SW', 'OCH1'), ('HA', 'MID1'), ('SA', 'OCH2'), ('HA', 'MID2'), ('SG', 'OCH2'), ('MU', 'MID1'), ('SW', 'MID2'), ('AS', 'OCH2'), ('NO', 'MID1'), ('BI', 'OCH2'), ('SW', 'OCH2'), ('KA', 'OCH1'), ('KA', 'OCH1'), ('BI', 'OCH1'), ('BI', 'MID1'), ('SW', 'MID1'), ('AS', 'OCH2'), ('HA', 'MID2'), ('HA', 'MID1'), ('FA', 'MID1'), ('KA', 'OCH1'), ('BI', 'OCH2'), ('SA', 'OCH1'), ('NO', 'OCH1'), ('KA', 'OCH2'), ('NO', 'MID2'), ('SA', 'OCH1'), ('AS', 'OCH2'), ('NO', 'OCH1'), ('HA', 'OCH2'), ('BI', 'MID1'), ('MU', 'OCH2'), ('AS', 'MID1'), ('FA', 'OCH1'), ('FA', 'MID2'), ('NO', 'MID1'), ('TA', 'MID1'), ('KE', 'MID2'), ('SW', 'OCH1'), ('SG', 'OCH1'), ('MU', 'MID1'), ('SG', 'OCH1'), ('MU', 'MID1'), ('SW', 'MID1'), ('SG', 'MID2'), ('SA', 'MID2'), ('AS', 'MID2'), ('SW', 'OCH1'), ('SA', 'OCH2'), ('TU', 'OCH1'), ('AS', 'OCH2'), ('KE', 'MID2'), ('FA', 'OCH2'), ('SG', 'MID2'), ('BI', 'MID1'), ('HA', 'MID1'), ('KE', 'MID2'), ('MU', 'MID1'), ('TU', 'OCH2'), ('HA', 'OCH2'), ('HA', 'OCH1'), ('NO', 'OCH2'), ('NO', 'OCH2'), ('SG', 'MID2'), ('KA', 'OCH1'), ('TA', 'OCH1'), ('SW', 'MID2'), ('FA', 'OCH2'), ('TU', 'OCH1'), ('TA', 'OCH2'), ('TU', 'OCH2'), ('TA', 'MID2'), ('SW', 'OCH2'), ('SW', 'MID1'), ('KA', 'OCH2'), ('SA', 'OCH1'), ('BI', 'OCH2'), ('AS', 'OCH1'), ('FA', 'MID2'), ('KE', 'OCH2'), ('TA', 'OCH1'), ('HA', 'MID2'), ('FA', 'OCH2'), ('SG', 'MID1'), ('KE', 'MID1'), ('SW', 'MID2'), ('TA', 'MID2'), ('KA', 'MID1'), ('SW', 'MID2'), ('SG', 'MID2'), ('NO', 'OCH2'), ('SA', 'MID2'), ('SG', 'OCH1'), ('FA', 'OCH1'), ('NO', 'MID2'), ('SA', 'MID2'), ('SA', 'OCH1'), ('MU', 'MID1'), ('SG', 'OCH2'), ('TU', 'OCH1'), ('NO', 'MID2'), ('NO', 'MID1'), ('MU', 'MID2'), ('AS', 'MID2'), ('BI', 'OCH2'), ('HA', 'MID1'), ('AS', 'OCH1'), ('SA', 'MID1'), ('BI', 'OCH1'), ('SW', 'MID1'), ('TA', 'MID1'), ('TA', 'MID2'), ('AS', 'MID2'), ('SG', 'OCH1'), ('SW', 'MID2'), ('AS', 'OCH2'), ('SA', 'OCH1'), ('SA', 'MID1'), ('KA', 'MID1'), ('SG', 'OCH1'), ('SW', 'MID2'), ('SW', 'OCH1'), ('KE', 'OCH1'), ('BI', 'OCH1'), ('TU', 'MID1'), ('TA', 'MID1'), ('SA', 'OCH2'), ('SW', 'MID1'), ('KE', 'OCH1'), ('SW', 'OCH1'), ('BI', 'MID2'), ('MU', 'OCH2'), ('KA', 'MID1'), ('MU', 'OCH1'), ('HA', 'OCH1'), ('SG', 'MID2'), ('HA', 'MID1'), ('AS', 'MID2'), ('AS', 'OCH1'), ('TA', 'OCH2'), ('TA', 'OCH2'), ('BI', 'OCH1'), ('KA', 'OCH1'), ('SA', 'MID2'), ('BI', 'MID2'), ('MU', 'OCH2'), ('FA', 'MID1'), ('FA', 'MID1'), ('MU', 'MID2'), ('NO', 'OCH2'), ('HA', 'OCH2'), ('MU', 'MID2'), ('KE', 'MID1'), ('TU', 'MID1'), ('AS', 'MID2'), ('KE', 'MID2'), ('KE', 'OCH2'), ('BI', 'MID1'), ('SA', 'OCH1'), ('AS', 'MID1'), ('TU', 'OCH1'), ('BI', 'MID2'), ('MU', 'MID1'), ('KE', 'OCH2'), ('FA', 'MID2'), ('BI', 'OCH1'), ('KE', 'OCH2'), ('HA', 'MID1'), ('TA', 'OCH1'), ('MU', 'OCH2'), ('AS', 'OCH1'), ('KA', 'MID1'), ('SG', 'MID2'), ('KE', 'OCH1'), ('NO', 'MID1'), ('FA', 'OCH2'), ('KA', 'OCH2'), ('KE', 'MID2'), ('KA', 'MID2'), ('NO', 'MID2'), ('FA', 'MID1'), ('KE', 'OCH2'), ('TU', 'MID2'), ('TU', 'OCH2'), ('KE', 'OCH1'), ('TU', 'OCH2'), ('SA', 'OCH2'), ('KE', 'MID1'), ('FA', 'OCH2'), ('SA', 'MID1'), ('AS', 'MID2'), ('SG', 'MID1'), ('HA', 'OCH1'), ('SA', 'MID2'), ('BI', 'OCH2'), ('KE', 'MID1'), ('SW', 'OCH1'), ('SW', 'MID1'), ('KA', 'OCH1'), ('TA', 'OCH1'), ('KE', 'OCH1'), ('KA', 'MID2'), ('BI', 'OCH2'), ('TU', 'OCH2'), ('KE', 'OCH2'), ('HA', 'OCH2'), ('FA', 'OCH2'), ('NO', 'MID2'), ('NO', 'OCH2'), ('MU', 'OCH1'), ('HA', 'MID2'), ('AS', 'MID1'), ('AS', 'MID2'), ('SG', 'MID1'), ('BI', 'MID2'), ('BI', 'OCH2'), ('KE', 'MID1'), ('TA', 'OCH1'), ('MU', 'MID2'), ('FA', 'OCH1'), ('SG', 'MID1'), ('KE', 'MID2'), ('HA', 'OCH2'), ('SA', 'MID1'), ('SA', 'OCH2'), ('NO', 'OCH2'), ('SW', 'OCH2'), ('KE', 'OCH2'), ('BI', 'OCH1'), ('TA', 'MID2'), ('FA', 'MID1'), ('SW', 'MID2'), ('FA', 'MID1'), ('BI', 'MID2'), ('AS', 'OCH2'), ('TU', 'MID1'), ('KE', 'MID1'), ('SG', 'MID1'), ('MU', 'OCH2'), ('FA', 'MID1'), ('FA', 'MID2'), ('TA', 'OCH2'), ('SG', 'OCH2'), ('BI', 'OCH2'), ('TA', 'MID1'), ('AS', 'MID2'), ('AS', 'OCH2'), ('NO', 'OCH1'), ('SW', 'MID1'), ('KA', 'MID2'), ('KA', 'MID2'), ('AS', 'MID1'), ('AS', 'OCH1'), ('SW', 'MID1'), ('KE', 'OCH2'), ('KE', 'OCH1'), ('TU', 'MID2'), ('HA', 'OCH2'), ('HA', 'MID2'), ('MU', 'OCH1'), ('KE', 'MID2'), ('NO', 'OCH1'), ('TU', 'OCH1'), ('BI', 'MID1'), ('KE', 'MID2'), ('HA', 'MID1'), ('KA', 'MID1'), ('TA', 'OCH2'), ('BI', 'MID2'), ('MU', 'OCH1'), ('NO', 'OCH1'), ('TA', 'OCH2'), ('TA', 'MID1'), ('TU', 'MID1'), ('MU', 'OCH1'), ('AS', 'OCH2'), ('MU', 'MID1'), ('SG', 'MID2'), ('MU', 'MID2'), ('NO', 'MID1'), ('NO', 'MID2'), ('BI', 'OCH2'), ('KA', 'MID1'), ('HA', 'OCH1'), ('TU', 'MID2'), ('HA', 'OCH1'), ('MU', 'MID2'), ('NO', 'OCH1'), ('SG', 'MID1'), ('HA', 'OCH2'), ('SW', 'OCH2'), ('MU', 'MID2'), ('TU', 'OCH1'), ('NO', 'OCH1'), ('FA', 'OCH1'), ('TU', 'OCH1'), ('KA', 'OCH2'), ('TA', 'OCH1'), ('TA', 'OCH1'), ('FA', 'OCH1'), ('SA', 'MID1'), ('NO', 'MID1'), ('HA', 'MID2'), ('AS', 'MID1'), ('AS', 'MID2'), ('TA', 'OCH2'), ('SG', 'MID1'), ('KA', 'OCH2'), ('HA', 'OCH2'), ('BI', 'OCH1'), ('KA', 'MID2'), ('KE', 'MID1'), ('SA', 'MID2'), ('SA', 'MID2'), ('KA', 'OCH1'), ('MU', 'OCH1'), ('TU', 'OCH1'), ('TA', 'OCH2'), ('MU', 'OCH2'), ('SG', 'OCH1'), ('KE', 'MID1'), ('SG', 'OCH1'), ('SA', 'OCH2'), ('SG', 'OCH1'), ('SW', 'OCH2'), ('KA', 'OCH2'), ('FA', 'MID1'), ('SG', 'OCH2'), ('FA', 'MID2'), ('NO', 'OCH2'), ('SA', 'OCH1'), ('TU', 'MID1'), ('TA', 'MID2'), ('KA', 'OCH1'), ('BI', 'MID2'), ('AS', 'OCH1'), ('SA', 'MID2'), ('SG', 'MID1'), ('HA', 'OCH1'), ('KE', 'OCH1'), ('KA', 'OCH1'), ('SG', 'OCH1'), ('HA', 'OCH1'), ('SA', 'MID1'), ('TU', 'OCH2'), ('KE', 'OCH1'), ('TA', 'MID2'), ('MU', 'OCH2'), ('HA', 'OCH1'), ('NO', 'OCH2'), ('KA', 'MID2'), ('MU', 'OCH2'), ('KA', 'MID2'), ('FA', 'OCH2'), ('BI', 'OCH1'), ('KE', 'MID1'), ('SW', 'MID2'), ('FA', 'MID2'), ('SW', 'OCH1'), ('FA', 'OCH1'), ('BI', 'MID1'), ('TU', 'OCH2'), ('TA', 'OCH1'), ('NO', 'OCH2'), ('TA', 'MID2'), ('SA', 'MID1'), ('KA', 'OCH2'), ('NO', 'MID2')]\n"
     ]
    }
   ],
   "source": [
    "# GENERATE RANDOM SEQUENCE OF TIMESLOT-ANIMAL COMBINATIONS\n",
    "combs = generate_combinations(ALLE_DIEREN,DAGDELEN)\n",
    "random.seed(RANDOM_SEED)\n",
    "random.shuffle(combs)\n",
    "header = [('ANIMAL','TIMESLOT')]\n",
    "np.savetxt('random_schedule_list.csv',header+combs,delimiter=',',fmt='% s')"
   ]
  }
 ],
 "metadata": {
  "interpreter": {
   "hash": "f220218ea754aeaad16bce83eef9506d4c739bafcea3b9b94af5632dd471c83c"
  },
  "kernelspec": {
   "display_name": "Python 3.9.6 64-bit",
   "language": "python",
   "name": "python3"
  },
  "language_info": {
   "name": "python",
   "version": "3.9.6"
  },
  "orig_nbformat": 4
 },
 "nbformat": 4,
 "nbformat_minor": 2
}
